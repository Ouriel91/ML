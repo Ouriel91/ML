{
 "cells": [
  {
   "cell_type": "markdown",
   "metadata": {
    "colab_type": "text",
    "id": "3DR-eO17geWu"
   },
   "source": [
    "# Convolutional Neural Network"
   ]
  },
  {
   "cell_type": "markdown",
   "metadata": {
    "colab_type": "text",
    "id": "EMefrVPCg-60"
   },
   "source": [
    "### Importing the libraries"
   ]
  },
  {
   "cell_type": "code",
   "execution_count": 1,
   "metadata": {},
   "outputs": [
    {
     "name": "stdout",
     "output_type": "stream",
     "text": [
      "WARNING:tensorflow:From C:\\Users\\Ouriel\\anaconda3\\Lib\\site-packages\\keras\\src\\losses.py:2976: The name tf.losses.sparse_softmax_cross_entropy is deprecated. Please use tf.compat.v1.losses.sparse_softmax_cross_entropy instead.\n",
      "\n"
     ]
    }
   ],
   "source": [
    "#to deeply understanding see in:\n",
    "#https://www.superdatascience.com/blogs/the-ultimate-guide-to-convolutional-neural-networks-cnn\n",
    "\n",
    "import tensorflow as tf\n",
    "from keras.preprocessing.image import ImageDataGenerator"
   ]
  },
  {
   "cell_type": "code",
   "execution_count": 2,
   "metadata": {},
   "outputs": [
    {
     "data": {
      "text/plain": [
       "'2.15.0'"
      ]
     },
     "execution_count": 2,
     "metadata": {},
     "output_type": "execute_result"
    }
   ],
   "source": [
    "tf.__version__"
   ]
  },
  {
   "cell_type": "markdown",
   "metadata": {
    "colab_type": "text",
    "id": "oxQxCBWyoGPE"
   },
   "source": [
    "## Part 1 - Data Preprocessing"
   ]
  },
  {
   "cell_type": "markdown",
   "metadata": {
    "colab_type": "text",
    "id": "MvE-heJNo3GG"
   },
   "source": [
    "### Preprocessing the Training set"
   ]
  },
  {
   "cell_type": "code",
   "execution_count": 3,
   "metadata": {},
   "outputs": [
    {
     "name": "stdout",
     "output_type": "stream",
     "text": [
      "Found 8000 images belonging to 2 classes.\n"
     ]
    }
   ],
   "source": [
    "#we pre process images\n",
    "#in training and test set we have cats and dogs classes\n",
    "#in training set each class have 4000 images\n",
    "#we will apply some transformations on training set images, but not on test set\n",
    "#we not apply the these transformations of test set because we want to avoid overfitting\n",
    "#if we don't apply these transformations when we train CNN of training set we will get huge differnt\n",
    "#in accuracy between training set and test set\n",
    "#because the training set trained well but if we will not do these transformations (See below)\n",
    "#each image in test that will be little bit diffrent the model can predict results that not correct\n",
    "#lot of images of test set will be kind of biased images and the test set prediction will be not accurate enough\n",
    "#these transformations are geometrical transformations, zooms, rotations on our images\n",
    "#so what we do some transactions like shift some pixels and rotate images and do horizontal flips\n",
    "#also we do some zoom in and zoom out and series of transformations to modify images and to augment images\n",
    "#that's called Image Augmentation, and that will help to CNN not over learn and over train the images which \n",
    "#cause an overfitting\n",
    "\n",
    "#we use 3 transformations:\n",
    "#horizontal_flip:Boolean. Randomly flip inputs horizontally.\n",
    "#shear_range:Float. Shear Intensity (Shear angle in counter-clockwise direction in degrees)\n",
    "#zoom_range:Float or [lower, upper]. Range for random zoom. If a float, [lower, upper] = [1-zoom_range, 1+zoom_range].\n",
    "#Also we have, rescale:rescaling factor. If None or 0, no rescaling is applied, \n",
    "#otherwise we multiply the data by the value provided (after applying all other transformations). Defaults to None.\n",
    "\n",
    "train_datagen = ImageDataGenerator(\n",
    "        rescale=1./255, #feature scale for each single pixel divid by 255 the possible pixels value [0-255]\n",
    "        shear_range=0.2,\n",
    "        zoom_range=0.2,\n",
    "        horizontal_flip=True)\n",
    "\n",
    "train_data_dir = 'dataset/training_set'\n",
    "img_height = img_width = 64 #make faster training \n",
    "batch_size = 32 #how many images will be in one batch\n",
    "train_set = train_datagen.flow_from_directory(\n",
    "        train_data_dir,\n",
    "        target_size=(img_height, img_width),\n",
    "        batch_size=batch_size,\n",
    "        class_mode='binary')"
   ]
  },
  {
   "cell_type": "markdown",
   "metadata": {
    "colab_type": "text",
    "id": "mrCMmGw9pHys"
   },
   "source": [
    "### Preprocessing the Test set"
   ]
  },
  {
   "cell_type": "code",
   "execution_count": 4,
   "metadata": {},
   "outputs": [
    {
     "name": "stdout",
     "output_type": "stream",
     "text": [
      "Found 2000 images belonging to 2 classes.\n"
     ]
    }
   ],
   "source": [
    "#in test set each class have 1000 images\n",
    "test_datagen = ImageDataGenerator(rescale=1./255)\n",
    "\n",
    "test_data_dir = 'dataset/test_set'\n",
    "test_set = test_datagen.flow_from_directory(\n",
    "        test_data_dir,\n",
    "        target_size=(img_height, img_width),\n",
    "        batch_size=batch_size,\n",
    "        class_mode='binary')"
   ]
  },
  {
   "cell_type": "markdown",
   "metadata": {
    "colab_type": "text",
    "id": "af8O4l90gk7B"
   },
   "source": [
    "## Part 2 - Building the CNN"
   ]
  },
  {
   "cell_type": "markdown",
   "metadata": {
    "colab_type": "text",
    "id": "ces1gXY2lmoX"
   },
   "source": [
    "### Initialising the CNN"
   ]
  },
  {
   "cell_type": "code",
   "execution_count": 5,
   "metadata": {},
   "outputs": [
    {
     "name": "stdout",
     "output_type": "stream",
     "text": [
      "WARNING:tensorflow:From C:\\Users\\Ouriel\\anaconda3\\Lib\\site-packages\\keras\\src\\backend.py:873: The name tf.get_default_graph is deprecated. Please use tf.compat.v1.get_default_graph instead.\n",
      "\n"
     ]
    }
   ],
   "source": [
    "cnn = tf.keras.models.Sequential()"
   ]
  },
  {
   "cell_type": "markdown",
   "metadata": {
    "colab_type": "text",
    "id": "u5YJj_XMl5LF"
   },
   "source": [
    "### Step 1 - Convolution"
   ]
  },
  {
   "cell_type": "code",
   "execution_count": 6,
   "metadata": {},
   "outputs": [],
   "source": [
    "filters_num = 32 #filters: number of feature detectors to image\n",
    "kernel_dimentions = 3 #fd_size: height and width of the kernel/feature detector 3x3\n",
    "mode = 3 #this is color mode, 3 for RGB images\n",
    "#input_shape needed only for the first layer - input layer\n",
    "cnn.add(tf.keras.layers.Conv2D(filters=filters_num, kernel_size=kernel_dimentions, activation='relu', input_shape=(img_height, img_width, mode)))"
   ]
  },
  {
   "cell_type": "markdown",
   "metadata": {
    "colab_type": "text",
    "id": "tf87FpvxmNOJ"
   },
   "source": [
    "### Step 2 - Pooling"
   ]
  },
  {
   "cell_type": "code",
   "execution_count": 7,
   "metadata": {},
   "outputs": [
    {
     "name": "stdout",
     "output_type": "stream",
     "text": [
      "WARNING:tensorflow:From C:\\Users\\Ouriel\\anaconda3\\Lib\\site-packages\\keras\\src\\layers\\pooling\\max_pooling2d.py:161: The name tf.nn.max_pool is deprecated. Please use tf.nn.max_pool2d instead.\n",
      "\n"
     ]
    }
   ],
   "source": [
    "pool_dimentions = 2 #2X2 frame of max pooling\n",
    "pixels_shift_frame = 2 #shift frame every 2 pixels\n",
    "cnn.add(tf.keras.layers.MaxPool2D(pool_size=pool_dimentions, strides=pixels_shift_frame))"
   ]
  },
  {
   "cell_type": "markdown",
   "metadata": {
    "colab_type": "text",
    "id": "xaTOgD8rm4mU"
   },
   "source": [
    "### Adding a second convolutional layer"
   ]
  },
  {
   "cell_type": "code",
   "execution_count": 8,
   "metadata": {},
   "outputs": [],
   "source": [
    "cnn.add(tf.keras.layers.Conv2D(filters=filters_num, kernel_size=kernel_dimentions, activation='relu'))\n",
    "cnn.add(tf.keras.layers.MaxPool2D(pool_size=pool_dimentions, strides=pixels_shift_frame))"
   ]
  },
  {
   "cell_type": "markdown",
   "metadata": {
    "colab_type": "text",
    "id": "tmiEuvTunKfk"
   },
   "source": [
    "### Step 3 - Flattening"
   ]
  },
  {
   "cell_type": "code",
   "execution_count": 9,
   "metadata": {},
   "outputs": [],
   "source": [
    "#the flatten max pooling become to a layer in CNN\n",
    "#in fact from this stage we are move for ANN configuration but fully connected (Dense class see below) and more powerfull\n",
    "#that will be input layer of ANN\n",
    "cnn.add(tf.keras.layers.Flatten())"
   ]
  },
  {
   "cell_type": "markdown",
   "metadata": {
    "colab_type": "text",
    "id": "dAoSECOm203v"
   },
   "source": [
    "### Step 4 - Full Connection"
   ]
  },
  {
   "cell_type": "code",
   "execution_count": 10,
   "metadata": {},
   "outputs": [],
   "source": [
    "neurons_num = 128 #it's computer vision problem and it's complex problem and we need more neurons for that\n",
    "cnn.add(tf.keras.layers.Dense(units = neurons_num, activation='relu'))"
   ]
  },
  {
   "cell_type": "markdown",
   "metadata": {
    "colab_type": "text",
    "id": "yTldFvbX28Na"
   },
   "source": [
    "### Step 5 - Output Layer"
   ]
  },
  {
   "cell_type": "code",
   "execution_count": 11,
   "metadata": {},
   "outputs": [],
   "source": [
    "#it's binary classification so we need one neuron that encode binary class - cat or dog\n",
    "#also sigmoid is better activation function to binary classification (know the probability of each prediction res)\n",
    "cnn.add(tf.keras.layers.Dense(units = 1, activation='sigmoid'))"
   ]
  },
  {
   "cell_type": "markdown",
   "metadata": {
    "colab_type": "text",
    "id": "D6XkI90snSDl"
   },
   "source": [
    "## Part 3 - Training the CNN"
   ]
  },
  {
   "cell_type": "markdown",
   "metadata": {
    "colab_type": "text",
    "id": "vfrFQACEnc6i"
   },
   "source": [
    "### Compiling the CNN"
   ]
  },
  {
   "cell_type": "code",
   "execution_count": 12,
   "metadata": {},
   "outputs": [
    {
     "name": "stdout",
     "output_type": "stream",
     "text": [
      "WARNING:tensorflow:From C:\\Users\\Ouriel\\anaconda3\\Lib\\site-packages\\keras\\src\\optimizers\\__init__.py:309: The name tf.train.Optimizer is deprecated. Please use tf.compat.v1.train.Optimizer instead.\n",
      "\n"
     ]
    }
   ],
   "source": [
    "#binary_crossentropy for classification like here\n",
    "cnn.compile(optimizer = 'adam', loss = 'binary_crossentropy', metrics = ['accuracy'])"
   ]
  },
  {
   "cell_type": "markdown",
   "metadata": {
    "colab_type": "text",
    "id": "ehS-v3MIpX2h"
   },
   "source": [
    "### Training the CNN on the Training set and evaluating it on the Test set"
   ]
  },
  {
   "cell_type": "code",
   "execution_count": 13,
   "metadata": {},
   "outputs": [
    {
     "name": "stdout",
     "output_type": "stream",
     "text": [
      "Epoch 1/25\n",
      "WARNING:tensorflow:From C:\\Users\\Ouriel\\anaconda3\\Lib\\site-packages\\keras\\src\\utils\\tf_utils.py:492: The name tf.ragged.RaggedTensorValue is deprecated. Please use tf.compat.v1.ragged.RaggedTensorValue instead.\n",
      "\n",
      "WARNING:tensorflow:From C:\\Users\\Ouriel\\anaconda3\\Lib\\site-packages\\keras\\src\\engine\\base_layer_utils.py:384: The name tf.executing_eagerly_outside_functions is deprecated. Please use tf.compat.v1.executing_eagerly_outside_functions instead.\n",
      "\n",
      "250/250 [==============================] - 96s 371ms/step - loss: 0.6371 - accuracy: 0.6306 - val_loss: 0.5827 - val_accuracy: 0.6905\n",
      "Epoch 2/25\n",
      "250/250 [==============================] - 88s 350ms/step - loss: 0.5758 - accuracy: 0.6929 - val_loss: 0.5661 - val_accuracy: 0.7165\n",
      "Epoch 3/25\n",
      "250/250 [==============================] - 92s 366ms/step - loss: 0.5514 - accuracy: 0.7170 - val_loss: 0.5433 - val_accuracy: 0.7270\n",
      "Epoch 4/25\n",
      "250/250 [==============================] - 90s 362ms/step - loss: 0.5241 - accuracy: 0.7385 - val_loss: 0.5456 - val_accuracy: 0.7215\n",
      "Epoch 5/25\n",
      "250/250 [==============================] - 93s 370ms/step - loss: 0.4956 - accuracy: 0.7541 - val_loss: 0.4929 - val_accuracy: 0.7665\n",
      "Epoch 6/25\n",
      "250/250 [==============================] - 89s 353ms/step - loss: 0.4816 - accuracy: 0.7680 - val_loss: 0.5116 - val_accuracy: 0.7615\n",
      "Epoch 7/25\n",
      "250/250 [==============================] - 92s 369ms/step - loss: 0.4611 - accuracy: 0.7801 - val_loss: 0.4666 - val_accuracy: 0.7890\n",
      "Epoch 8/25\n",
      "250/250 [==============================] - 88s 350ms/step - loss: 0.4491 - accuracy: 0.7904 - val_loss: 0.5841 - val_accuracy: 0.7050\n",
      "Epoch 9/25\n",
      "250/250 [==============================] - 88s 352ms/step - loss: 0.4346 - accuracy: 0.7970 - val_loss: 0.4575 - val_accuracy: 0.7955\n",
      "Epoch 10/25\n",
      "250/250 [==============================] - 86s 344ms/step - loss: 0.4136 - accuracy: 0.8049 - val_loss: 0.6470 - val_accuracy: 0.7145\n",
      "Epoch 11/25\n",
      "250/250 [==============================] - 86s 343ms/step - loss: 0.4034 - accuracy: 0.8167 - val_loss: 0.5489 - val_accuracy: 0.7615\n",
      "Epoch 12/25\n",
      "250/250 [==============================] - 87s 349ms/step - loss: 0.3904 - accuracy: 0.8254 - val_loss: 0.4756 - val_accuracy: 0.7820\n",
      "Epoch 13/25\n",
      "250/250 [==============================] - 85s 338ms/step - loss: 0.3797 - accuracy: 0.8299 - val_loss: 0.5329 - val_accuracy: 0.7675\n",
      "Epoch 14/25\n",
      "250/250 [==============================] - 82s 328ms/step - loss: 0.3706 - accuracy: 0.8324 - val_loss: 0.4775 - val_accuracy: 0.7865\n",
      "Epoch 15/25\n",
      "250/250 [==============================] - 84s 338ms/step - loss: 0.3528 - accuracy: 0.8469 - val_loss: 0.4778 - val_accuracy: 0.7855\n",
      "Epoch 16/25\n",
      "250/250 [==============================] - 87s 347ms/step - loss: 0.3440 - accuracy: 0.8431 - val_loss: 0.4777 - val_accuracy: 0.7930\n",
      "Epoch 17/25\n",
      "250/250 [==============================] - 87s 346ms/step - loss: 0.3228 - accuracy: 0.8586 - val_loss: 0.4893 - val_accuracy: 0.7995\n",
      "Epoch 18/25\n",
      "250/250 [==============================] - 86s 344ms/step - loss: 0.3238 - accuracy: 0.8571 - val_loss: 0.4871 - val_accuracy: 0.7910\n",
      "Epoch 19/25\n",
      "250/250 [==============================] - 87s 349ms/step - loss: 0.2966 - accuracy: 0.8749 - val_loss: 0.5239 - val_accuracy: 0.7740\n",
      "Epoch 20/25\n",
      "250/250 [==============================] - 88s 352ms/step - loss: 0.2899 - accuracy: 0.8720 - val_loss: 0.5492 - val_accuracy: 0.7830\n",
      "Epoch 21/25\n",
      "250/250 [==============================] - 91s 363ms/step - loss: 0.2719 - accuracy: 0.8888 - val_loss: 0.4912 - val_accuracy: 0.8060\n",
      "Epoch 22/25\n",
      "250/250 [==============================] - 86s 344ms/step - loss: 0.2585 - accuracy: 0.8907 - val_loss: 0.5142 - val_accuracy: 0.8025\n",
      "Epoch 23/25\n",
      "250/250 [==============================] - 84s 338ms/step - loss: 0.2498 - accuracy: 0.8963 - val_loss: 0.5201 - val_accuracy: 0.7970\n",
      "Epoch 24/25\n",
      "250/250 [==============================] - 86s 344ms/step - loss: 0.2470 - accuracy: 0.8969 - val_loss: 0.5225 - val_accuracy: 0.7955\n",
      "Epoch 25/25\n",
      "250/250 [==============================] - 84s 335ms/step - loss: 0.2266 - accuracy: 0.9050 - val_loss: 0.5786 - val_accuracy: 0.7895\n"
     ]
    },
    {
     "data": {
      "text/plain": [
       "<keras.src.callbacks.History at 0x1ed5ba59ed0>"
      ]
     },
     "execution_count": 13,
     "metadata": {},
     "output_type": "execute_result"
    }
   ],
   "source": [
    "#here train the model with train set and in the same time evaluate it with test set\n",
    "#25 is number that chosen after experience\n",
    "#train the model with 25 epochs could take 15-20 minutes so pay attention\n",
    "#we have 8000 images and each batch is 32 so each epoch is 250 steps\n",
    "cnn.fit(x = train_set, validation_data = test_set, epochs = 25)"
   ]
  },
  {
   "cell_type": "markdown",
   "metadata": {
    "colab_type": "text",
    "id": "U3PZasO0006Z"
   },
   "source": [
    "## Part 4 - Making a single prediction"
   ]
  },
  {
   "cell_type": "code",
   "execution_count": 70,
   "metadata": {},
   "outputs": [
    {
     "name": "stdout",
     "output_type": "stream",
     "text": [
      "1/1 [==============================] - 0s 27ms/step\n"
     ]
    }
   ],
   "source": [
    "import numpy as np\n",
    "from keras.preprocessing import image\n",
    "import random\n",
    "\n",
    "#randomize an image for prediction\n",
    "img_class = 'dogs' if random.randint(0,1) == 0 else 'cats'\n",
    "prefix = 'dog' if img_class == 'dogs' else 'cat'\n",
    "image_num = random.randint(4001,5000)\n",
    "path = 'dataset/test_set/'+img_class+'/'+prefix+'.'+str(image_num)+'.jpg'\n",
    "\n",
    "#target size for fit this image to the model training\n",
    "test_image = image.load_img(path, target_size = (img_height, img_width))\n",
    "test_image = image.img_to_array(test_image) #convert image to array\n",
    "\n",
    "#add extra dimention into corresponding into the batch (of images)\n",
    "#it needed because cnn not trained on single images\n",
    "#so we need that even in the batch have single image (and not 32 as we trained)\n",
    "#we add the extra dimention, and the dimention of batch always will be the first dimention\n",
    "#(in each batch you get diffrent images so this image will be the first dimention)\n",
    "#so we add axis = 0\n",
    "test_image = np.expand_dims(test_image, axis = 0)\n",
    "result = cnn.predict(test_image)\n",
    "train_set.class_indices\n",
    "if result[0][0] == 1:\n",
    "  prediction = 'dog'\n",
    "else:\n",
    "  prediction = 'cat'"
   ]
  },
  {
   "cell_type": "code",
   "execution_count": 71,
   "metadata": {},
   "outputs": [
    {
     "data": {
      "image/jpeg": "[encoded data removed]",
      "text/plain": [
       "<IPython.core.display.Image object>"
      ]
     },
     "execution_count": 71,
     "metadata": {},
     "output_type": "execute_result"
    }
   ],
   "source": [
    "from IPython.display import Image\n",
    "Image(filename=path) "
   ]
  },
  {
   "cell_type": "code",
   "execution_count": 72,
   "metadata": {},
   "outputs": [
    {
     "name": "stdout",
     "output_type": "stream",
     "text": [
      "The image above identified as: dog\n"
     ]
    }
   ],
   "source": [
    "print('The image above identified as:', prediction)"
   ]
  },
  {
   "cell_type": "code",
   "execution_count": null,
   "metadata": {},
   "outputs": [],
   "source": []
  },
  {
   "cell_type": "code",
   "execution_count": null,
   "metadata": {},
   "outputs": [],
   "source": []
  }
 ],
 "metadata": {
  "colab": {
   "collapsed_sections": [],
   "name": "convolutional_neural_network.ipynb",
   "provenance": [],
   "toc_visible": true
  },
  "kernelspec": {
   "display_name": "Python 3 (ipykernel)",
   "language": "python",
   "name": "python3"
  },
  "language_info": {
   "codemirror_mode": {
    "name": "ipython",
    "version": 3
   },
   "file_extension": ".py",
   "mimetype": "text/x-python",
   "name": "python",
   "nbconvert_exporter": "python",
   "pygments_lexer": "ipython3",
   "version": "3.11.5"
  }
 },
 "nbformat": 4,
 "nbformat_minor": 1
}
